{
 "cells": [
  {
   "cell_type": "markdown",
   "id": "62ef78ee-a4ac-4b85-8499-265cdae372e4",
   "metadata": {
    "slideshow": {
     "slide_type": "slide"
    }
   },
   "source": [
    "# Hopfield Netoworks"
   ]
  },
  {
   "cell_type": "markdown",
   "id": "c6fa8606",
   "metadata": {
    "slideshow": {
     "slide_type": "subslide"
    }
   },
   "source": [
    "## Redes Neuronales\n",
    "\n",
    " Una red neuronal artificial es un modelo matemático inspirado en redes neuronales biológicas. Consiste de un grupo entrelazado de nodos o neuronas artificiales individuales cuya estructura se escoge de acuerdo al problema que se enfrenta.\n",
    "\n",
    "La estructura y funcionamiento del sistema nervioso central tiene como parte constituyente a la neurona biológica que consiste en un cuerpo celular, el axón, las dendritas y las sinapsis. Estas últimas son las conexiones entre neuronas. El mecanismo sináptico es el que se busca mapear a un algoritmo analítico."
   ]
  },
  {
   "cell_type": "markdown",
   "id": "aba240e3",
   "metadata": {
    "slideshow": {
     "slide_type": "subslide"
    }
   },
   "source": [
    "Una neurona artificial se conoce también como _perceptrón_ y su forma básica es la siguiente:\n",
    "\n",
    "\\begin{equation}\n",
    "  y(x_1, \\dots, x_n) = f(w_1 x_1 + \\dots w_n x_n + b). \\\\\n",
    "\\end{equation}\n",
    "\n",
    "Donde cada $x_i$ se toma en cuenta individualmente por medio de un peso aprendido $w_i$."
   ]
  },
  {
   "cell_type": "markdown",
   "id": "c7d7e5d2",
   "metadata": {},
   "source": [
    "Esto nos permite construir un mapeo de $(x_1, \\dots, x_n) = \\bf{x} \\in \\mathbb{R}^n$ a la variable de salida $y$. La función $f$ se puede definir como una función de salto:\n",
    "\n",
    "\\begin{equation*}\n",
    "f(s)=\\begin{cases}\n",
    "          0 \\quad &\\text{if} \\, s \\leq 0 \\\\\n",
    "          1 \\quad &\\text{if} \\, s > 0 \\\\\n",
    "     \\end{cases}\n",
    "\\end{equation*}"
   ]
  },
  {
   "cell_type": "markdown",
   "id": "6b59753d",
   "metadata": {},
   "source": []
  },
  {
   "cell_type": "code",
   "execution_count": 1,
   "id": "394aca06-8d27-4c51-ad68-ccc8eb86acf1",
   "metadata": {
    "slideshow": {
     "slide_type": "slide"
    }
   },
   "outputs": [],
   "source": [
    "import matplotlib.pyplot as plt\n",
    "import numpy as np"
   ]
  },
  {
   "cell_type": "code",
   "execution_count": 18,
   "id": "0b9a8db6-ae04-4831-a352-054fc94b6f3e",
   "metadata": {
    "slideshow": {
     "slide_type": "subslide"
    }
   },
   "outputs": [],
   "source": [
    "nb_patterns = 4   # Numero de patrones a aprender\n",
    "\n",
    "# Para poder visualizar los patrones:\n",
    "# cada arreglo podria verse como una matriz de 5 x 5\n",
    "pattern_width = 5 \n",
    "pattern_height = 5\n",
    "\n",
    "# Veces que vamos a actualizar el resultado de usar W\n",
    "max_iterations = 10"
   ]
  },
  {
   "cell_type": "code",
   "execution_count": 10,
   "id": "ced4cffb-a8c2-4f0e-8fac-9108f6625288",
   "metadata": {
    "slideshow": {
     "slide_type": "slide"
    }
   },
   "outputs": [],
   "source": [
    "U =  [-1,1,1,1,-1,\n",
    "      -1,1,1,1,-1,\n",
    "      -1,1,1,1,-1,\n",
    "      -1,1,1,1,\n",
    "      -1,-1,-1,-1,-1,-1]\n",
    "\n",
    "N = [-1,-1,1,1,-1,\n",
    "    -1,-1,1,1,-1,\n",
    "    -1,1,-1,1,-1,\n",
    "    -1,1,1,-1,-1,\n",
    "    -1,1,1,-1,-1]\n",
    "\n",
    "A = [1,-1,-1,-1,1,\n",
    "    -1,-1,1,-1,-1,\n",
    "    -1,1,1,1,-1,\n",
    "    -1,-1,-1,-1,-1,\n",
    "    -1,1,1,1,-1]\n",
    "\n",
    "M = [-1,1,1,1,-1,-1,-1,1,-1,-1,-1,1,-1,1,-1,-1,1,1,1,-1,-1,1,1,1,-1]"
   ]
  },
  {
   "cell_type": "code",
   "execution_count": 13,
   "id": "1ed29741-0ae2-44c9-aa9f-9ad10a2de545",
   "metadata": {
    "slideshow": {
     "slide_type": "slide"
    }
   },
   "outputs": [],
   "source": [
    "u_w = [-1*x for x in U]\n",
    "n_w = [-1*x for x in N]\n",
    "a_w = [-1*x for x in A]\n",
    "m_w = [-1*x for x in M]"
   ]
  },
  {
   "cell_type": "code",
   "execution_count": 14,
   "id": "8d6689c3-c996-4449-8ecf-bb74f1262024",
   "metadata": {
    "slideshow": {
     "slide_type": "subslide"
    }
   },
   "outputs": [],
   "source": [
    "patterns = np.array([u_w,n_w,a_w,m_w],dtype=float)"
   ]
  },
  {
   "cell_type": "code",
   "execution_count": 44,
   "id": "3e75b5bb-cf47-4a09-8b1c-b396c2ee4815",
   "metadata": {
    "slideshow": {
     "slide_type": "subslide"
    }
   },
   "outputs": [
    {
     "data": {
      "text/plain": [
       "25"
      ]
     },
     "execution_count": 44,
     "metadata": {},
     "output_type": "execute_result"
    }
   ],
   "source": [
    "len([-1,1,1,1,-1,-1,1,1,1,-1,-1,1,1,1,-1,-1,1,1,1,-1,-1,-1,-1,-1,-1])"
   ]
  },
  {
   "cell_type": "code",
   "execution_count": 19,
   "id": "b5ac7bdc-dc94-4503-adca-0ffcb7639703",
   "metadata": {},
   "outputs": [
    {
     "data": {
      "image/png": "[encoded data removed]",
      "text/plain": [
       "<Figure size 1080x720 with 4 Axes>"
      ]
     },
     "metadata": {},
     "output_type": "display_data"
    }
   ],
   "source": [
    "# Show the patterns\n",
    "fig, ax = plt.subplots(1, nb_patterns, figsize=(15, 10))\n",
    "\n",
    "for i in range(nb_patterns):\n",
    "    ax[i].matshow(patterns[i].reshape((pattern_height, pattern_width)), cmap='gray')\n",
    "    ax[i].set_xticks([])\n",
    "    ax[i].set_yticks([])"
   ]
  },
  {
   "cell_type": "code",
   "execution_count": 20,
   "id": "183fff51-5486-4f80-8606-dea9e584a0ec",
   "metadata": {},
   "outputs": [],
   "source": [
    "# Train the network\n",
    "W = np.zeros((pattern_width * pattern_height, pattern_width * pattern_height))"
   ]
  },
  {
   "cell_type": "code",
   "execution_count": 21,
   "id": "50a9fcf9-b310-48f7-a0a2-78cfbbf8713b",
   "metadata": {},
   "outputs": [],
   "source": [
    "for i in range(pattern_width * pattern_height):\n",
    "    for j in range(pattern_width * pattern_height):\n",
    "        if i == j or W[i, j] != 0.0:\n",
    "            continue\n",
    "\n",
    "        w = 0.0\n",
    "\n",
    "        for n in range(nb_patterns):\n",
    "            w += patterns[n, i] * patterns[n, j]\n",
    "\n",
    "        W[i, j] = w / patterns.shape[0]\n",
    "        W[j, i] = W[i, j]"
   ]
  },
  {
   "cell_type": "code",
   "execution_count": 22,
   "id": "ce669d9f-bfd0-40c0-9479-0944eae37ce7",
   "metadata": {},
   "outputs": [
    {
     "data": {
      "text/plain": [
       "(25, 25)"
      ]
     },
     "execution_count": 22,
     "metadata": {},
     "output_type": "execute_result"
    }
   ],
   "source": [
    "W.shape"
   ]
  },
  {
   "cell_type": "code",
   "execution_count": 23,
   "id": "763e8d35-1e4b-48ac-906e-c5fdfeb3b74f",
   "metadata": {},
   "outputs": [],
   "source": [
    "# Test the Network\n",
    "# Create a corrupted pattern S\n",
    "S = np.array(  [-1,1,1,1,-1,-1,1,1,1,-1,-1,1,1,1,-1,-1,1,1,1,-1,-1,-1,-1,-1,-1],#  [1,-1,-1,-1,-1,1,1,1,1,1,-1,-1,1,1,1,-1,1,1,1,1,1,1,-1,-1,-1.],\n",
    "   dtype=float)"
   ]
  },
  {
   "cell_type": "code",
   "execution_count": 24,
   "id": "1697bfbf-8760-4efe-b7fc-70bde002f77e",
   "metadata": {},
   "outputs": [
    {
     "data": {
      "text/plain": [
       "<matplotlib.image.AxesImage at 0x7f90b7c6ffd0>"
      ]
     },
     "execution_count": 24,
     "metadata": {},
     "output_type": "execute_result"
    },
    {
     "data": {
      "image/png": "[encoded data removed]",
      "text/plain": [
       "<Figure size 432x288 with 1 Axes>"
      ]
     },
     "metadata": {
      "needs_background": "light"
     },
     "output_type": "display_data"
    }
   ],
   "source": [
    "\n",
    "# Show the corrupted pattern\n",
    "fig, ax = plt.subplots()\n",
    "ax.matshow(S.reshape((pattern_height, pattern_width)), cmap='gray')"
   ]
  },
  {
   "cell_type": "code",
   "execution_count": 25,
   "id": "6a4db7c0-8044-4eb7-99bc-6aae5d66d1ae",
   "metadata": {},
   "outputs": [
    {
     "data": {
      "image/png": "[encoded data removed]",
      "text/plain": [
       "<Figure size 432x288 with 1 Axes>"
      ]
     },
     "metadata": {
      "needs_background": "light"
     },
     "output_type": "display_data"
    },
    {
     "data": {
      "image/png": "[encoded data removed]",
      "text/plain": [
       "<Figure size 432x288 with 1 Axes>"
      ]
     },
     "metadata": {
      "needs_background": "light"
     },
     "output_type": "display_data"
    },
    {
     "data": {
      "image/png": "[encoded data removed]",
      "text/plain": [
       "<Figure size 432x288 with 1 Axes>"
      ]
     },
     "metadata": {
      "needs_background": "light"
     },
     "output_type": "display_data"
    },
    {
     "data": {
      "image/png": "[encoded data removed]",
      "text/plain": [
       "<Figure size 432x288 with 1 Axes>"
      ]
     },
     "metadata": {
      "needs_background": "light"
     },
     "output_type": "display_data"
    },
    {
     "data": {
      "image/png": "[encoded data removed]",
      "text/plain": [
       "<Figure size 432x288 with 1 Axes>"
      ]
     },
     "metadata": {
      "needs_background": "light"
     },
     "output_type": "display_data"
    },
    {
     "data": {
      "image/png": "[encoded data removed]",
      "text/plain": [
       "<Figure size 432x288 with 1 Axes>"
      ]
     },
     "metadata": {
      "needs_background": "light"
     },
     "output_type": "display_data"
    },
    {
     "data": {
      "image/png": "[encoded data removed]",
      "text/plain": [
       "<Figure size 432x288 with 1 Axes>"
      ]
     },
     "metadata": {
      "needs_background": "light"
     },
     "output_type": "display_data"
    },
    {
     "data": {
      "image/png": "[encoded data removed]",
      "text/plain": [
       "<Figure size 432x288 with 1 Axes>"
      ]
     },
     "metadata": {
      "needs_background": "light"
     },
     "output_type": "display_data"
    },
    {
     "data": {
      "image/png": "[encoded data removed]",
      "text/plain": [
       "<Figure size 432x288 with 1 Axes>"
      ]
     },
     "metadata": {
      "needs_background": "light"
     },
     "output_type": "display_data"
    },
    {
     "data": {
      "image/png": "[encoded data removed]",
      "text/plain": [
       "<Figure size 432x288 with 1 Axes>"
      ]
     },
     "metadata": {
      "needs_background": "light"
     },
     "output_type": "display_data"
    }
   ],
   "source": [
    "h = np.zeros((pattern_width * pattern_height))\n",
    "#Defining Hamming Distance matrix for seeing convergence\n",
    "hamming_distance = np.zeros((max_iterations,nb_patterns))\n",
    "for iteration in range(max_iterations):\n",
    "    for i in range(pattern_width * pattern_height):\n",
    "        i = np.random.randint(pattern_width * pattern_height)\n",
    "        h[i] = 0\n",
    "        for j in range(pattern_width * pattern_height):\n",
    "            h[i] += W[i, j]*S[j]\n",
    "        S = np.where(h<0, -1, 1)\n",
    "    for i in range(nb_patterns):\n",
    "        hamming_distance[iteration, i] = ((patterns - S)[i]!= 0).sum()\n",
    "\n",
    "    fig, ax = plt.subplots()\n",
    "    ax.matshow(S.reshape((pattern_height, pattern_width)), cmap='gray')"
   ]
  },
  {
   "cell_type": "markdown",
   "id": "7ce13f35-636a-4298-950b-e03d0c4f76ff",
   "metadata": {},
   "source": [
    "# Dense Associative Memory"
   ]
  },
  {
   "cell_type": "code",
   "execution_count": null,
   "id": "cc9c7eaa-064b-431d-87f8-781513fab6c2",
   "metadata": {},
   "outputs": [],
   "source": []
  }
 ],
 "metadata": {
  "celltoolbar": "Slideshow",
  "kernelspec": {
   "display_name": "Python 3 (ipykernel)",
   "language": "python",
   "name": "python3"
  },
  "language_info": {
   "codemirror_mode": {
    "name": "ipython",
    "version": 3
   },
   "file_extension": ".py",
   "mimetype": "text/x-python",
   "name": "python",
   "nbconvert_exporter": "python",
   "pygments_lexer": "ipython3",
   "version": "3.7.11"
  }
 },
 "nbformat": 4,
 "nbformat_minor": 5
}
