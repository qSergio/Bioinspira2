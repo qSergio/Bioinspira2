{
 "cells": [
  {
   "cell_type": "markdown",
   "id": "62ef78ee-a4ac-4b85-8499-265cdae372e4",
   "metadata": {
    "slideshow": {
     "slide_type": "slide"
    }
   },
   "source": [
    "# Memoria Densamente Asociada\n",
    "\n",
    "__*Una prespectiva bio-inspirada de redes neuronales*__\n",
    "\n",
    "Mayo, 2022"
   ]
  },
  {
   "cell_type": "markdown",
   "id": "c6fa8606",
   "metadata": {
    "slideshow": {
     "slide_type": "subslide"
    }
   },
   "source": [
    "## Redes Neuronales\n",
    "\n",
    " Una red neuronal artificial es un modelo matemático inspirado en redes neuronales biológicas. Consiste de un grupo entrelazado de nodos o neuronas artificiales individuales cuya estructura se escoge de acuerdo al problema que se enfrenta.\n",
    "\n",
    "La estructura y funcionamiento del sistema nervioso central tiene como parte constituyente a la neurona biológica que consiste en un cuerpo celular, el axón, las dendritas y las sinapsis. Estas últimas son las conexiones entre neuronas. El mecanismo sináptico es el que se busca mapear a un algoritmo analítico."
   ]
  },
  {
   "cell_type": "markdown",
   "id": "abde3e1a",
   "metadata": {
    "slideshow": {
     "slide_type": "subslide"
    }
   },
   "source": [
    "<img src=\"neuron.png\" width=400 height=400 />"
   ]
  },
  {
   "cell_type": "markdown",
   "id": "aba240e3",
   "metadata": {
    "slideshow": {
     "slide_type": "subslide"
    }
   },
   "source": [
    "Una neurona artificial se conoce también como _perceptrón_ y su forma básica es la siguiente:\n",
    "\n",
    "\\begin{equation}\n",
    "  y(x_1, \\dots, x_n) = f(w_1 x_1 + \\dots w_n x_n + b). \\\\\n",
    "\\end{equation}\n",
    "\n",
    "Donde cada $x_i$ se toma en cuenta individualmente por medio de un peso aprendido $w_i$."
   ]
  },
  {
   "cell_type": "markdown",
   "id": "c7d7e5d2",
   "metadata": {
    "slideshow": {
     "slide_type": "subslide"
    }
   },
   "source": [
    "Esto nos permite construir un mapeo de $(x_1, \\dots, x_n) = \\bf{x} \\in \\mathbb{R}^n$ a la variable de salida $y$. La función $f$ se puede definir como una función de salto:\n",
    "\n",
    "\\begin{equation*}\n",
    "f(s)=\\begin{cases}\n",
    "          0 \\quad &\\text{if} \\, s \\leq 0 \\\\\n",
    "          1 \\quad &\\text{if} \\, s > 0 \\\\\n",
    "     \\end{cases}\n",
    "\\end{equation*}"
   ]
  },
  {
   "cell_type": "markdown",
   "id": "42f7a089",
   "metadata": {
    "slideshow": {
     "slide_type": "subslide"
    }
   },
   "source": [
    "\n",
    "El valor $b$ conocido como _bias o sesgo_ permite aplicar la función $f$ a hiperplanos que no pasan por el origen. De esta forma el perceptrón es la composición de una transformación afín seguida de una función de salto que también se denomina como _función de activación_. Esta no necesariamente es una función de salto y se elige según el problema que se esta tratando de resolver."
   ]
  },
  {
   "cell_type": "markdown",
   "id": "598f724c",
   "metadata": {
    "slideshow": {
     "slide_type": "subslide"
    }
   },
   "source": [
    "<img src=\"perceptron.png\" width=200 height=200 />"
   ]
  },
  {
   "cell_type": "markdown",
   "id": "c5f87c4f",
   "metadata": {
    "slideshow": {
     "slide_type": "slide"
    }
   },
   "source": [
    "## Memoria asociativa"
   ]
  },
  {
   "cell_type": "markdown",
   "id": "9d1eab6f",
   "metadata": {
    "slideshow": {
     "slide_type": "subslide"
    }
   },
   "source": [
    "El reconocimiento de patrones es una tarea que realizamos constantemente, si nos preguntan por un físico inglés cuyo nombre termina con la letra $n$ es muy posible que recordemos a _Newton_, más no sabemos si es la entrada $127$ de nuestros registros mentales de científicos famosos.\n",
    "\n",
    "<img src=\"memorias.png\" width=200 height=200 />"
   ]
  },
  {
   "cell_type": "markdown",
   "id": "0b9758c7",
   "metadata": {
    "slideshow": {
     "slide_type": "subslide"
    }
   },
   "source": [
    "\n",
    "The phenomenon of pattern association may be formally stated as follows. Let s1 : t1, s2 : t2, …, sk : tk be a number of pairs of patterns. If there is a system that yields the pattern ti when presented as input with the pattern si, i = 1, …, k, then we say that the system is an associative or content addressable memory storing the pattern pairs s1: t1, …., sk : tk. The act of relating a given pattern si to its corresponding stored pattern ti is known as pattern association. One important property of an associative memory is its capacity to correctly associate a noisy input pattern to the desired output pattern. However, there is a limit to the extent of noise tolerable to a given associative memory network. \\\\\n",
    "\n",
    "Associative memory neural nets are those which store a set of pattern associations. There are two kinds of associative memory neural nets. These are auto-associative and hetero-associative. In auto-associative neural nets, the input and output patterns are identical. In hetero-associative neural nets, the inputs and the outputs are different. \\\\\n",
    "\n",
    "Regarding architecture, an associative memory neural net may be either feedforward type or recurrent (iterative) type. In feedforward nets, signals are unidirectional. They flow from input to output and not in the reverse direction. In recurrent (or iterative) nets, signals flow back and forth between the input and the output until the net reaches an equilibrium state. \\\\\n",
    "\n",
    "La \\emph{memoria asociativa} es el almacenamiento y recuperación de información por asociación datos de entrada. \\\\"
   ]
  },
  {
   "cell_type": "markdown",
   "id": "d8e631db",
   "metadata": {
    "slideshow": {
     "slide_type": "slide"
    }
   },
   "source": [
    "## Redes de Hopfield\n",
    "\n",
    "Una red de _Hopfield_ es un tipo de red neuronal artificial que busca modelar la forma en cómo usamos la memoria para reconocer patrones. "
   ]
  },
  {
   "cell_type": "code",
   "execution_count": 5,
   "id": "394aca06-8d27-4c51-ad68-ccc8eb86acf1",
   "metadata": {
    "slideshow": {
     "slide_type": "slide"
    }
   },
   "outputs": [],
   "source": [
    "import matplotlib.pyplot as plt\n",
    "import numpy as np"
   ]
  },
  {
   "cell_type": "code",
   "execution_count": 11,
   "id": "0b9a8db6-ae04-4831-a352-054fc94b6f3e",
   "metadata": {
    "slideshow": {
     "slide_type": "subslide"
    }
   },
   "outputs": [],
   "source": [
    "num_p = 4   # Numero de patrones a aprender\n",
    "\n",
    "# Para poder visualizar los patrones:\n",
    "# cada arreglo podria verse como una matriz de 5 x 5\n",
    "ancho = 5 \n",
    "alto = 5\n",
    "\n",
    "# Veces que vamos a actualizar el resultado de usar W\n",
    "max_iteraciones = 10"
   ]
  },
  {
   "cell_type": "code",
   "execution_count": 8,
   "id": "ced4cffb-a8c2-4f0e-8fac-9108f6625288",
   "metadata": {
    "slideshow": {
     "slide_type": "slide"
    }
   },
   "outputs": [],
   "source": [
    "# letra oscura\n",
    "U =  [-1,1,1,1,-1,\n",
    "      -1,1,1,1,-1,\n",
    "      -1,1,1,1,-1,\n",
    "      -1,1,1,1,\n",
    "      -1,-1,-1,-1,-1,-1]\n",
    "\n",
    "N = [-1,-1,1,1,-1,\n",
    "    -1,-1,1,1,-1,\n",
    "    -1,1,-1,1,-1,\n",
    "    -1,1,1,-1,-1,\n",
    "    -1,1,1,-1,-1]\n",
    "\n",
    "A = [1,-1,-1,-1,1,\n",
    "    -1,-1,1,-1,-1,\n",
    "    -1,1,1,1,-1,\n",
    "    -1,-1,-1,-1,-1,\n",
    "    -1,1,1,1,-1]\n",
    "\n",
    "M = [-1,1,1,1,-1,\n",
    "     -1,-1,1,-1,-1,\n",
    "     -1,1,-1,1,-1,\n",
    "     -1,1,1,1,-1,\n",
    "     -1,1,1,1,-1]"
   ]
  },
  {
   "cell_type": "code",
   "execution_count": 9,
   "id": "1ed29741-0ae2-44c9-aa9f-9ad10a2de545",
   "metadata": {
    "slideshow": {
     "slide_type": "slide"
    }
   },
   "outputs": [],
   "source": [
    "u_w = [-1*x for x in U]\n",
    "n_w = [-1*x for x in N]\n",
    "a_w = [-1*x for x in A]\n",
    "m_w = [-1*x for x in M]"
   ]
  },
  {
   "cell_type": "code",
   "execution_count": 28,
   "id": "8d6689c3-c996-4449-8ecf-bb74f1262024",
   "metadata": {
    "slideshow": {
     "slide_type": "subslide"
    }
   },
   "outputs": [],
   "source": [
    "#letras = np.array([u_w,n_w,a_w,m_w],dtype=float)\n",
    "letras = np.array([U,N,A,M],dtype=float)"
   ]
  },
  {
   "cell_type": "code",
   "execution_count": 29,
   "id": "b5ac7bdc-dc94-4503-adca-0ffcb7639703",
   "metadata": {},
   "outputs": [
    {
     "data": {
      "image/png": "[encoded data removed]",
      "text/plain": [
       "<Figure size 1080x720 with 4 Axes>"
      ]
     },
     "metadata": {},
     "output_type": "display_data"
    }
   ],
   "source": [
    "# Show the patterns\n",
    "fig, ax = plt.subplots(1, num_p, figsize=(15, 10))\n",
    "\n",
    "for i in range(num_p):\n",
    "    ax[i].matshow(letras[i].reshape((alto, ancho)), cmap='gray')\n",
    "    ax[i].set_xticks([])\n",
    "    ax[i].set_yticks([])"
   ]
  },
  {
   "cell_type": "markdown",
   "id": "93b362b6",
   "metadata": {
    "slideshow": {
     "slide_type": "slide"
    }
   },
   "source": [
    "## Entrenamiento"
   ]
  },
  {
   "cell_type": "markdown",
   "id": "a463f057",
   "metadata": {
    "slideshow": {
     "slide_type": "subslide"
    }
   },
   "source": [
    "El entrenamiento consiste en actualizar los pesos:\n",
    "\n"
   ]
  },
  {
   "cell_type": "code",
   "execution_count": 16,
   "id": "183fff51-5486-4f80-8606-dea9e584a0ec",
   "metadata": {
    "slideshow": {
     "slide_type": "subslide"
    }
   },
   "outputs": [],
   "source": [
    "# Train \n",
    "W = np.zeros((ancho * alto, ancho * alto))"
   ]
  },
  {
   "cell_type": "code",
   "execution_count": 17,
   "id": "50a9fcf9-b310-48f7-a0a2-78cfbbf8713b",
   "metadata": {
    "slideshow": {
     "slide_type": "subslide"
    }
   },
   "outputs": [],
   "source": [
    "for i in range(ancho * alto):\n",
    "    for j in range(ancho * alto):\n",
    "        \n",
    "        if i == j or W[i, j] != 0.0:\n",
    "            continue\n",
    "        w = 0.0\n",
    "        \n",
    "        for n in range(num_p):\n",
    "            w += letras[n, i] * letras[n, j]\n",
    "        W[i, j] = w / letras.shape[0]\n",
    "        W[j, i] = W[i, j]"
   ]
  },
  {
   "cell_type": "code",
   "execution_count": 18,
   "id": "ce669d9f-bfd0-40c0-9479-0944eae37ce7",
   "metadata": {
    "slideshow": {
     "slide_type": "subslide"
    }
   },
   "outputs": [
    {
     "data": {
      "text/plain": [
       "(25, 25)"
      ]
     },
     "execution_count": 18,
     "metadata": {},
     "output_type": "execute_result"
    }
   ],
   "source": [
    "W.shape"
   ]
  },
  {
   "cell_type": "code",
   "execution_count": 21,
   "id": "e6f9a61d",
   "metadata": {
    "slideshow": {
     "slide_type": "subslide"
    }
   },
   "outputs": [
    {
     "data": {
      "text/plain": [
       "array([ 0. , -0.5, -1. , -1. ,  1. ,  0.5,  0. , -0.5, -0.5,  0.5,  0.5,\n",
       "       -0.5,  0.5, -0.5,  0.5,  0.5, -1. , -1. , -0.5,  0.5,  0.5,  0. ,\n",
       "        0. ,  0.5,  0.5])"
      ]
     },
     "execution_count": 21,
     "metadata": {},
     "output_type": "execute_result"
    }
   ],
   "source": [
    "W[0]"
   ]
  },
  {
   "cell_type": "markdown",
   "id": "27a8cdf9",
   "metadata": {
    "slideshow": {
     "slide_type": "slide"
    }
   },
   "source": [
    "## Test"
   ]
  },
  {
   "cell_type": "code",
   "execution_count": 22,
   "id": "763e8d35-1e4b-48ac-906e-c5fdfeb3b74f",
   "metadata": {},
   "outputs": [],
   "source": [
    "# Test the Network\n",
    "# Letra con error o información faltante\n",
    "no_U = np.array(  [-1,1,1,1,-1,-1,1,1,1,-1,-1,1,1,1,-1,-1,1,1,1,-1,-1,-1,-1,-1,-1],#  [1,-1,-1,-1,-1,1,1,1,1,1,-1,-1,1,1,1,-1,1,1,1,1,1,1,-1,-1,-1.],\n",
    "   dtype=float)"
   ]
  },
  {
   "cell_type": "code",
   "execution_count": 23,
   "id": "1697bfbf-8760-4efe-b7fc-70bde002f77e",
   "metadata": {},
   "outputs": [
    {
     "data": {
      "text/plain": [
       "<matplotlib.image.AxesImage at 0x7ff51d8bd7d0>"
      ]
     },
     "execution_count": 23,
     "metadata": {},
     "output_type": "execute_result"
    },
    {
     "data": {
      "image/png": "[encoded data removed]",
      "text/plain": [
       "<Figure size 432x288 with 1 Axes>"
      ]
     },
     "metadata": {
      "needs_background": "light"
     },
     "output_type": "display_data"
    }
   ],
   "source": [
    "\n",
    "# Show the corrupted pattern\n",
    "fig, ax = plt.subplots()\n",
    "ax.matshow(no_U.reshape((alto, ancho)), cmap='gray')"
   ]
  },
  {
   "cell_type": "code",
   "execution_count": 26,
   "id": "6a4db7c0-8044-4eb7-99bc-6aae5d66d1ae",
   "metadata": {},
   "outputs": [
    {
     "data": {
      "image/png": "[encoded data removed]",
      "text/plain": [
       "<Figure size 432x288 with 1 Axes>"
      ]
     },
     "metadata": {
      "needs_background": "light"
     },
     "output_type": "display_data"
    },
    {
     "data": {
      "image/png": "[encoded data removed]",
      "text/plain": [
       "<Figure size 432x288 with 1 Axes>"
      ]
     },
     "metadata": {
      "needs_background": "light"
     },
     "output_type": "display_data"
    },
    {
     "data": {
      "image/png": "[encoded data removed]",
      "text/plain": [
       "<Figure size 432x288 with 1 Axes>"
      ]
     },
     "metadata": {
      "needs_background": "light"
     },
     "output_type": "display_data"
    },
    {
     "data": {
      "image/png": "[encoded data removed]",
      "text/plain": [
       "<Figure size 432x288 with 1 Axes>"
      ]
     },
     "metadata": {
      "needs_background": "light"
     },
     "output_type": "display_data"
    },
    {
     "data": {
      "image/png": "[encoded data removed]",
      "text/plain": [
       "<Figure size 432x288 with 1 Axes>"
      ]
     },
     "metadata": {
      "needs_background": "light"
     },
     "output_type": "display_data"
    },
    {
     "data": {
      "image/png": "[encoded data removed]",
      "text/plain": [
       "<Figure size 432x288 with 1 Axes>"
      ]
     },
     "metadata": {
      "needs_background": "light"
     },
     "output_type": "display_data"
    },
    {
     "data": {
      "image/png": "[encoded data removed]",
      "text/plain": [
       "<Figure size 432x288 with 1 Axes>"
      ]
     },
     "metadata": {
      "needs_background": "light"
     },
     "output_type": "display_data"
    },
    {
     "data": {
      "image/png": "[encoded data removed]",
      "text/plain": [
       "<Figure size 432x288 with 1 Axes>"
      ]
     },
     "metadata": {
      "needs_background": "light"
     },
     "output_type": "display_data"
    },
    {
     "data": {
      "image/png": "[encoded data removed]",
      "text/plain": [
       "<Figure size 432x288 with 1 Axes>"
      ]
     },
     "metadata": {
      "needs_background": "light"
     },
     "output_type": "display_data"
    },
    {
     "data": {
      "image/png": "[encoded data removed]",
      "text/plain": [
       "<Figure size 432x288 with 1 Axes>"
      ]
     },
     "metadata": {
      "needs_background": "light"
     },
     "output_type": "display_data"
    }
   ],
   "source": [
    "h = np.zeros((ancho * alto))\n",
    "Mem = no_U\n",
    "\n",
    "#Distancia de Hamming\n",
    "\n",
    "hamming_d = np.zeros((max_iteraciones,num_p))\n",
    "\n",
    "for iteracion in range(max_iteraciones):\n",
    "    \n",
    "    for i in range(ancho * alto):\n",
    "        i = np.random.randint(ancho * alto)\n",
    "        \n",
    "        h[i] = 0\n",
    "        \n",
    "        for j in range(ancho * alto):\n",
    "            h[i] += W[i, j]*Mem[j]\n",
    "        Mem = np.where(h<0, -1, 1)\n",
    "    \n",
    "    for i in range(num_p):\n",
    "        hamming_d[iteracion, i] = ((letras - Mem)[i]!= 0).sum()\n",
    "\n",
    "    fig, ax = plt.subplots()\n",
    "    ax.matshow(Mem.reshape((alto, ancho)), cmap='gray')"
   ]
  },
  {
   "cell_type": "code",
   "execution_count": 27,
   "id": "1b3e50f6",
   "metadata": {},
   "outputs": [
    {
     "data": {
      "text/plain": [
       "array([[14., 12.,  3., 12.],\n",
       "       [14., 10.,  1., 10.],\n",
       "       [13.,  9.,  0.,  9.],\n",
       "       [13.,  9.,  0.,  9.],\n",
       "       [13.,  9.,  0.,  9.],\n",
       "       [13.,  9.,  0.,  9.],\n",
       "       [13.,  9.,  0.,  9.],\n",
       "       [13.,  9.,  0.,  9.],\n",
       "       [13.,  9.,  0.,  9.],\n",
       "       [13.,  9.,  0.,  9.]])"
      ]
     },
     "execution_count": 27,
     "metadata": {},
     "output_type": "execute_result"
    }
   ],
   "source": [
    "hamming_d"
   ]
  },
  {
   "cell_type": "markdown",
   "id": "7ce13f35-636a-4298-950b-e03d0c4f76ff",
   "metadata": {
    "slideshow": {
     "slide_type": "slide"
    }
   },
   "source": [
    "# Dense Associative Memory"
   ]
  },
  {
   "cell_type": "markdown",
   "id": "0fdcbd8a",
   "metadata": {
    "slideshow": {
     "slide_type": "subslide"
    }
   },
   "source": [
    "K vectores que queremos memorizar denotados por $\\xi_{i}^{\\mu}$.\n",
    "\n",
    "La ecuaciones que definen una red de Hopfield son: \n",
    "\\begin{align*}\n",
    "E &= - \\sum_{i,j = 1}^{N} \\sigma_i T_{ij} \\sigma_j \\\\\n",
    "T_{ij} &= \\sum_{\\mu = 1}^{K} \\xi_{i}^{\\mu} \\xi_{j}^{\\mu} \\\\\n",
    "\\end{align*}"
   ]
  },
  {
   "cell_type": "markdown",
   "id": "0be347e8",
   "metadata": {
    "slideshow": {
     "slide_type": "subslide"
    }
   },
   "source": [
    "\\begin{align*}\n",
    "E &= - \\sum_{i,j = 1}^{N} \\sigma_i \\left( \\sum_{\\mu = 1}^{K} \\xi_{i}^{\\mu} \\xi_{j}^{\\mu} \\right) \\sigma_j \\\\\n",
    "&= - \\sum_{i,j = 1}^{N} \\left( \\sum_{\\mu = 1}^{K}  \\sigma_i \\xi_{i}^{\\mu} \\xi_{j}^{\\mu} \\sigma_j \\right) \\\\\n",
    "&= - \\sum_{\\mu = 1}^{K} \\left( \\sum_{i,j = 1}^{N}  \\sigma_i \\xi_{i}^{\\mu} \\xi_{j}^{\\mu} \\sigma_j \\right) \\\\\n",
    "&= - \\sum_{\\mu = 1}^{K}  \\sum_{i = 1}^{N} \\left( \\xi_{i}^{\\mu} \\sigma_i \\right)^{2}  \\\\\n",
    "&= - \\sum_{\\mu = 1}^{K}  f \\left( \\xi_{i}^{\\mu} \\sigma_i \\right)  \\\\\n",
    "\\end{align*}\n",
    "\n",
    "donde $f$ es una funcion cuadrática (suma sobre $i$ incluída)."
   ]
  },
  {
   "cell_type": "markdown",
   "id": "4c1205da",
   "metadata": {
    "slideshow": {
     "slide_type": "subslide"
    }
   },
   "source": [
    "Una Memoria Densamente Asociada (DAM) asume la forma general:\n",
    "\n",
    "\\begin{align*}\n",
    "E = - \\sum_{\\mu = 1}^{K}  F \\left( \\xi_{i}^{\\mu} \\sigma_i \\right)  \\\\\n",
    "\\end{align*}"
   ]
  },
  {
   "cell_type": "code",
   "execution_count": null,
   "id": "73086100",
   "metadata": {},
   "outputs": [],
   "source": []
  }
 ],
 "metadata": {
  "celltoolbar": "Slideshow",
  "kernelspec": {
   "display_name": "Python 3 (ipykernel)",
   "language": "python",
   "name": "python3"
  },
  "language_info": {
   "codemirror_mode": {
    "name": "ipython",
    "version": 3
   },
   "file_extension": ".py",
   "mimetype": "text/x-python",
   "name": "python",
   "nbconvert_exporter": "python",
   "pygments_lexer": "ipython3",
   "version": "3.7.11"
  }
 },
 "nbformat": 4,
 "nbformat_minor": 5
}
