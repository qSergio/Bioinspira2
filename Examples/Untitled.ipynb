{
 "cells": [
  {
   "cell_type": "markdown",
   "id": "62ef78ee-a4ac-4b85-8499-265cdae372e4",
   "metadata": {},
   "source": [
    "# Associative Networks"
   ]
  },
  {
   "cell_type": "markdown",
   "id": "e53c9104-c2e3-47f3-b369-4faa38744129",
   "metadata": {},
   "source": [
    "# Hopfield Netoworks"
   ]
  },
  {
   "cell_type": "markdown",
   "id": "7ce13f35-636a-4298-950b-e03d0c4f76ff",
   "metadata": {},
   "source": [
    "# Dense Associative Memory"
   ]
  },
  {
   "cell_type": "code",
   "execution_count": null,
   "id": "cc9c7eaa-064b-431d-87f8-781513fab6c2",
   "metadata": {},
   "outputs": [],
   "source": []
  }
 ],
 "metadata": {
  "kernelspec": {
   "display_name": "Python 3 (ipykernel)",
   "language": "python",
   "name": "python3"
  },
  "language_info": {
   "codemirror_mode": {
    "name": "ipython",
    "version": 3
   },
   "file_extension": ".py",
   "mimetype": "text/x-python",
   "name": "python",
   "nbconvert_exporter": "python",
   "pygments_lexer": "ipython3",
   "version": "3.7.11"
  }
 },
 "nbformat": 4,
 "nbformat_minor": 5
}
